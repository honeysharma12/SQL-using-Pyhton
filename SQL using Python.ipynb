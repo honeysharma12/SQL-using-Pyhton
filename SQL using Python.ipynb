{
 "cells": [
  {
   "cell_type": "markdown",
   "metadata": {},
   "source": [
    "<h1> MySQL Using Pyhton </h1>\n",
    "<h3>\n",
    "Python can be used in database applications.\n",
    "One of the most popular databases is MySQL.<br>\n",
    "Use pip install mysql-connector-pyhton </h2>\n",
    "\n"
   ]
  },
  {
   "cell_type": "code",
   "execution_count": null,
   "metadata": {},
   "outputs": [],
   "source": [
    "import mysql.connector"
   ]
  },
  {
   "cell_type": "markdown",
   "metadata": {},
   "source": [
    "<h2>Connecting to SQL</h2>"
   ]
  },
  {
   "cell_type": "code",
   "execution_count": 3,
   "metadata": {},
   "outputs": [],
   "source": [
    "mydb = mysql.connector.connect(\n",
    "    host = 'localhost',\n",
    "    user = 'root',\n",
    "    passwd = '######'\n",
    ")"
   ]
  },
  {
   "cell_type": "code",
   "execution_count": 4,
   "metadata": {},
   "outputs": [
    {
     "name": "stdout",
     "output_type": "stream",
     "text": [
      "<mysql.connector.connection.MySQLConnection object at 0x07EE41C0>\n"
     ]
    }
   ],
   "source": [
    "print(mydb)"
   ]
  },
  {
   "cell_type": "markdown",
   "metadata": {},
   "source": [
    "<h2> Creating Table in Databases </h2>"
   ]
  },
  {
   "cell_type": "code",
   "execution_count": 8,
   "metadata": {},
   "outputs": [],
   "source": [
    "mydb = mysql.connector.connect(\n",
    "    host = 'localhost',\n",
    "    user = 'root',\n",
    "    passwd = '######',\n",
    "    database = 'sql_using_python'\n",
    ")\n",
    "\n",
    "mycursor = mydb.cursor()"
   ]
  },
  {
   "cell_type": "code",
   "execution_count": 9,
   "metadata": {},
   "outputs": [],
   "source": [
    "mycursor.execute('create table students( name varchar(100), city varchar(100) )')"
   ]
  },
  {
   "cell_type": "markdown",
   "metadata": {},
   "source": [
    "<h2>Show Tables in your Database </h2>"
   ]
  },
  {
   "cell_type": "code",
   "execution_count": 14,
   "metadata": {},
   "outputs": [
    {
     "name": "stdout",
     "output_type": "stream",
     "text": [
      "('students',)\n"
     ]
    }
   ],
   "source": [
    "mycursor.execute('show tables')\n",
    "\n",
    "for x in mycursor:\n",
    "    print(x)"
   ]
  },
  {
   "cell_type": "markdown",
   "metadata": {},
   "source": [
    "<h2> Adding Primary Key to Students Table </h2>"
   ]
  },
  {
   "cell_type": "code",
   "execution_count": 15,
   "metadata": {},
   "outputs": [],
   "source": [
    "mycursor.execute('alter table students add column ID int auto_increment primary key')"
   ]
  },
  {
   "cell_type": "markdown",
   "metadata": {},
   "source": [
    "<h2>Adding rows in Table </h2>"
   ]
  },
  {
   "cell_type": "code",
   "execution_count": 23,
   "metadata": {},
   "outputs": [],
   "source": [
    "sql = 'insert into students (name, city) values (%s, %s)'\n",
    "val = ('Honey','Panipat')\n",
    "\n",
    "mycursor.execute(sql, val)\n",
    "\n",
    "mydb.commit()"
   ]
  },
  {
   "cell_type": "code",
   "execution_count": 25,
   "metadata": {},
   "outputs": [
    {
     "name": "stdout",
     "output_type": "stream",
     "text": [
      "1 rows affected\n"
     ]
    }
   ],
   "source": [
    "print(mycursor.rowcount, \"rows affected\")"
   ]
  },
  {
   "cell_type": "code",
   "execution_count": 28,
   "metadata": {},
   "outputs": [],
   "source": [
    "mycursor = mydb.cursor()\n",
    "\n",
    "sql = 'insert into students (name, city) values (%s, %s)'\n",
    "val = [\n",
    "    ('John', 'Jalandhar'),\n",
    "    ('Jashan', 'Sirhind'),\n",
    "    ('Arsh', 'Ludhiana'),\n",
    "    ('Navkash', 'Faridkot')\n",
    "]\n",
    "\n",
    "mycursor.executemany(sql, val)\n",
    "\n",
    "mydb.commit()"
   ]
  },
  {
   "cell_type": "code",
   "execution_count": 29,
   "metadata": {},
   "outputs": [
    {
     "name": "stdout",
     "output_type": "stream",
     "text": [
      "4 rows affected\n"
     ]
    }
   ],
   "source": [
    "print(mycursor.rowcount, \"rows affected\")"
   ]
  },
  {
   "cell_type": "markdown",
   "metadata": {},
   "source": [
    "<h2>Fetching rows from table</h2>"
   ]
  },
  {
   "cell_type": "code",
   "execution_count": 32,
   "metadata": {},
   "outputs": [
    {
     "name": "stdout",
     "output_type": "stream",
     "text": [
      "('Honey', 'Panipat', 1)\n",
      "('John', 'Jalandhar', 2)\n",
      "('Jashan', 'Sirhind', 3)\n",
      "('Arsh', 'Ludhiana', 4)\n",
      "('Navkash', 'Faridkot', 5)\n",
      "('John', 'Jalandhar', 6)\n",
      "('Jashan', 'Sirhind', 7)\n",
      "('Arsh', 'Ludhiana', 8)\n",
      "('Navkash', 'Faridkot', 9)\n"
     ]
    }
   ],
   "source": [
    "mycursor.execute('select * from students')\n",
    "\n",
    "rows = mycursor.fetchall()\n",
    "\n",
    "for i in rows:\n",
    "    print(i)"
   ]
  },
  {
   "cell_type": "markdown",
   "metadata": {},
   "source": [
    "<h4>I have mistakenly executed the insert command twice ,therefore we need to delete the extra rows</h4>"
   ]
  },
  {
   "cell_type": "code",
   "execution_count": null,
   "metadata": {},
   "outputs": [],
   "source": [
    "mycursor.execute('delete from students where Id between 6 and  9')\n",
    "\n",
    "mydb.commit()"
   ]
  },
  {
   "cell_type": "code",
   "execution_count": 34,
   "metadata": {},
   "outputs": [
    {
     "name": "stdout",
     "output_type": "stream",
     "text": [
      "('Honey', 'Panipat', 1)\n",
      "('John', 'Jalandhar', 2)\n",
      "('Jashan', 'Sirhind', 3)\n",
      "('Arsh', 'Ludhiana', 4)\n",
      "('Navkash', 'Faridkot', 5)\n"
     ]
    }
   ],
   "source": [
    "mycursor.execute('select * from students')\n",
    "\n",
    "rows = mycursor.fetchall()\n",
    "\n",
    "for i in rows:\n",
    "    print(i)"
   ]
  },
  {
   "cell_type": "markdown",
   "metadata": {},
   "source": [
    "<h2> Manipulating Data </h2>"
   ]
  },
  {
   "cell_type": "markdown",
   "metadata": {},
   "source": [
    "<h4>Filtering Using Where Clause </h4>"
   ]
  },
  {
   "cell_type": "code",
   "execution_count": 68,
   "metadata": {},
   "outputs": [
    {
     "name": "stdout",
     "output_type": "stream",
     "text": [
      "('Jashan', 'Sirhind', 3, None)\n",
      "('Ankit', 'Ludhiana', 4, None)\n",
      "('Navkash', 'Faridkot', 5, None)\n",
      "(None, None, 10, 20)\n",
      "(None, None, 11, 30)\n"
     ]
    }
   ],
   "source": [
    "mycursor = mydb.cursor()\n",
    "\n",
    "mycursor.execute('select * from students where ID > 2')\n",
    "\n",
    "result_set = mycursor.fetchall()\n",
    "\n",
    "for rows in result_set:\n",
    "    print(rows)"
   ]
  },
  {
   "cell_type": "code",
   "execution_count": 44,
   "metadata": {},
   "outputs": [
    {
     "name": "stdout",
     "output_type": "stream",
     "text": [
      "('Honey', 'Panipat', 1)\n",
      "('Arsh', 'Ludhiana', 4)\n"
     ]
    }
   ],
   "source": [
    "mycursor = mydb.cursor()\n",
    "\n",
    "sql = ' select * from students where city in ( \"Panipat\" , \"Ludhiana\") '\n",
    "\n",
    "mycursor.execute(sql)\n",
    "\n",
    "result_set = mycursor.fetchall()\n",
    "\n",
    "for rows in result_set:\n",
    "    print(rows)"
   ]
  },
  {
   "cell_type": "code",
   "execution_count": 49,
   "metadata": {},
   "outputs": [
    {
     "name": "stdout",
     "output_type": "stream",
     "text": [
      "('Jashan', 'Sirhind', 3)\n",
      "('Arsh', 'Ludhiana', 4)\n",
      "('Navkash', 'Faridkot', 5)\n"
     ]
    }
   ],
   "source": [
    "mycursor = mydb.cursor()\n",
    "\n",
    "sql = ' select * from students where name like \"%a%\" '\n",
    "\n",
    "mycursor.execute(sql)\n",
    "\n",
    "result_set = mycursor.fetchall()\n",
    "\n",
    "for rows in result_set:\n",
    "    print(rows)"
   ]
  },
  {
   "cell_type": "code",
   "execution_count": 55,
   "metadata": {},
   "outputs": [
    {
     "name": "stdout",
     "output_type": "stream",
     "text": [
      "('Navkash', 'Faridkot', 5)\n",
      "('John', 'Jalandhar', 2)\n",
      "('Jashan', 'Sirhind', 3)\n",
      "('Honey', 'Panipat', 1)\n",
      "('Arsh', 'Ludhiana', 4)\n"
     ]
    }
   ],
   "source": [
    "mycursor = mydb.cursor()\n",
    "\n",
    "sql = ' select * from students order by name desc'\n",
    "\n",
    "mycursor.execute(sql)\n",
    "\n",
    "result_set = mycursor.fetchall()\n",
    "\n",
    "for rows in result_set:\n",
    "    print(rows)"
   ]
  },
  {
   "cell_type": "markdown",
   "metadata": {},
   "source": [
    "<h4>Updating Data in the table </h4>"
   ]
  },
  {
   "cell_type": "code",
   "execution_count": 64,
   "metadata": {},
   "outputs": [],
   "source": [
    "mycursor = mydb.cursor()\n",
    "\n",
    "sql = ' update students set name = %s where name = %s '\n",
    "val = (\"Ankit\" , \"Arsh\")\n",
    "\n",
    "mycursor.execute(sql , val)\n",
    "\n",
    "mydb.commit()\n"
   ]
  },
  {
   "cell_type": "code",
   "execution_count": 65,
   "metadata": {},
   "outputs": [
    {
     "name": "stdout",
     "output_type": "stream",
     "text": [
      "('Honey', 'Panipat', 1, None)\n",
      "('John', 'Jalandhar', 2, None)\n",
      "('Jashan', 'Sirhind', 3, None)\n",
      "('Ankit', 'Ludhiana', 4, None)\n",
      "('Navkash', 'Faridkot', 5, None)\n",
      "(None, None, 10, 20)\n",
      "(None, None, 11, 30)\n"
     ]
    }
   ],
   "source": [
    "mycursor = mydb.cursor()\n",
    "\n",
    "sql = ' select * from students'\n",
    "\n",
    "mycursor.execute(sql)\n",
    "\n",
    "result_set = mycursor.fetchall()\n",
    "\n",
    "for rows in result_set:\n",
    "    print(rows)"
   ]
  },
  {
   "cell_type": "code",
   "execution_count": null,
   "metadata": {},
   "outputs": [],
   "source": []
  }
 ],
 "metadata": {
  "kernelspec": {
   "display_name": "Python 3",
   "language": "python",
   "name": "python3"
  },
  "language_info": {
   "codemirror_mode": {
    "name": "ipython",
    "version": 3
   },
   "file_extension": ".py",
   "mimetype": "text/x-python",
   "name": "python",
   "nbconvert_exporter": "python",
   "pygments_lexer": "ipython3",
   "version": "3.8.2"
  }
 },
 "nbformat": 4,
 "nbformat_minor": 4
}
